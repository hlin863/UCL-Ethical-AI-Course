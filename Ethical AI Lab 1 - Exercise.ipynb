{
 "cells": [
  {
   "attachments": {},
   "cell_type": "markdown",
   "metadata": {},
   "source": [
    "# COMP0195: Accountable, Transparent, and Responsible Artificial Intelligence (22/23) - Lab 1"
   ]
  },
  {
   "attachments": {},
   "cell_type": "markdown",
   "metadata": {},
   "source": [
    "## Learning Goals\n",
    "\n",
    "##### - Finding the distribution of features in datasets with exploratory analysis\n",
    "##### - Identifying potential bias by documenting the differences between privileged and under-privileged groups\n",
    "##### - Finding the prevelence between features and target variables \n",
    "##### - Training a Machine Learning model \n",
    "##### - Evaluating a Machine Learning model with respect to its performance with privileged and under-privileged groups in       dataset\n",
    "##### - Confirming bias in the dataset and identifying the bias type\n"
   ]
  },
  {
   "attachments": {},
   "cell_type": "markdown",
   "metadata": {},
   "source": [
    "#### In this lab we will be workng with the UCI Adult Dataset. Please download the dataset from here (https://archive.ics.uci.edu/ml/datasets/adult) and save it as a csv."
   ]
  },
  {
   "cell_type": "code",
   "execution_count": 1,
   "metadata": {},
   "outputs": [],
   "source": [
    "import numpy as np\n",
    "import pandas as pd\n",
    "import matplotlib.pyplot as plt\n",
    "\n",
    "from sklearn import svm\n",
    "from sklearn.ensemble import RandomForestClassifier\n",
    "from sklearn.metrics import accuracy_score,confusion_matrix\n",
    "from sklearn.metrics import classification_report\n",
    "from sklearn.feature_selection import mutual_info_classif"
   ]
  },
  {
   "cell_type": "code",
   "execution_count": 2,
   "metadata": {},
   "outputs": [],
   "source": [
    "names = ['age','workclass','fnlwgt','education','education-num',\n",
    "        'marital-status','occupation','relationship','race','sex',\n",
    "        'capital-gain','capital-loss','hours-per-week','native-country',\n",
    "        'y']\n",
    "\n",
    "#Load dataset\n",
    "df = pd.read_csv(\n",
    "    r\"C:\\Users\\haoch\\OneDrive\\Documents\\UCL\\MSc_AI_Sustainable_Development\\COMP0195\\UCL-Ethical-AI-Course\\adult.data\", names=names, na_values='?')\n",
    "df = df.dropna()"
   ]
  },
  {
   "attachments": {},
   "cell_type": "markdown",
   "metadata": {},
   "source": [
    "## Data Analysis"
   ]
  },
  {
   "attachments": {},
   "cell_type": "markdown",
   "metadata": {},
   "source": [
    "#### We will first do some exploratory data analysis to get a better understadning of the distribution of sensitive variables like race and gender that can make the dataset biased."
   ]
  },
  {
   "cell_type": "code",
   "execution_count": 3,
   "metadata": {},
   "outputs": [
    {
     "data": {
      "text/plain": [
       "Text(0.5, 1.0, 'Race')"
      ]
     },
     "execution_count": 3,
     "metadata": {},
     "output_type": "execute_result"
    },
    {
     "data": {
      "image/png": "[encoded data removed]",
      "text/plain": [
       "<Figure size 432x288 with 1 Axes>"
      ]
     },
     "metadata": {},
     "output_type": "display_data"
    }
   ],
   "source": [
    "#TASK 1\n",
    "#Get the population count by race\n",
    "\n",
    "counts = df['race'].value_counts()\n",
    "\n",
    "labels = counts.index\n",
    "\n",
    "#Plot pie chart\n",
    "plt.pie(counts, startangle=90)\n",
    "plt.legend(labels, loc=2, fontsize=8)\n",
    "plt.title(\"Race\", size=20)"
   ]
  },
  {
   "cell_type": "code",
   "execution_count": 4,
   "metadata": {},
   "outputs": [
    {
     "data": {
      "text/plain": [
       "Text(0.5, 1.0, 'Sex')"
      ]
     },
     "execution_count": 4,
     "metadata": {},
     "output_type": "execute_result"
    },
    {
     "data": {
      "image/png": "[encoded data removed]",
      "text/plain": [
       "<Figure size 432x288 with 1 Axes>"
      ]
     },
     "metadata": {},
     "output_type": "display_data"
    }
   ],
   "source": [
    "#TASK 2\n",
    "\n",
    "#Get the popluation count by Sex\n",
    "\n",
    "################\n",
    "\n",
    "counts = df['sex'].value_counts()\n",
    "\n",
    "################\n",
    "\n",
    "labels = counts.index\n",
    "\n",
    "#Plot pie chart\n",
    "plt.pie(counts, startangle=90)\n",
    "plt.legend(labels, loc=2,fontsize=8)\n",
    "plt.title(\"Sex\",size=20)"
   ]
  },
  {
   "attachments": {},
   "cell_type": "markdown",
   "metadata": {},
   "source": [
    "#### Question: What do you notice in the distribution of different values of race and gender?"
   ]
  },
  {
   "cell_type": "markdown",
   "metadata": {},
   "source": [
    "In the data, there is an overwhelming number of white males collected in the dataset. There is an imbalanced distribution of the data. This can lead to bias in the model."
   ]
  },
  {
   "attachments": {},
   "cell_type": "markdown",
   "metadata": {},
   "source": [
    "#### Defining protected features\n"
   ]
  },
  {
   "attachments": {},
   "cell_type": "markdown",
   "metadata": {},
   "source": [
    "##### Before we move on, we will need to define our protected features. We do this by creating binary variables using the sensitive attributes. We define the variable so that 1 represents a privileged group and 0 represents an unprivileged group."
   ]
  },
  {
   "cell_type": "code",
   "execution_count": 5,
   "metadata": {},
   "outputs": [
    {
     "name": "stderr",
     "output_type": "stream",
     "text": [
      "C:\\Users\\haoch\\AppData\\Local\\Temp\\ipykernel_7620\\1104007574.py:9: SettingWithCopyWarning: \n",
      "A value is trying to be set on a copy of a slice from a DataFrame.\n",
      "Try using .loc[row_indexer,col_indexer] = value instead\n",
      "\n",
      "See the caveats in the documentation: https://pandas.pydata.org/pandas-docs/stable/user_guide/indexing.html#returning-a-view-versus-a-copy\n",
      "  df_fair['priv_race'] = [1 if r==' White' else 0 for r in df_fair['race']]\n",
      "C:\\Users\\haoch\\AppData\\Local\\Temp\\ipykernel_7620\\1104007574.py:10: SettingWithCopyWarning: \n",
      "A value is trying to be set on a copy of a slice from a DataFrame.\n",
      "Try using .loc[row_indexer,col_indexer] = value instead\n",
      "\n",
      "See the caveats in the documentation: https://pandas.pydata.org/pandas-docs/stable/user_guide/indexing.html#returning-a-view-versus-a-copy\n",
      "  df_fair['priv_sex'] = [1 if s==' Male' else 0 for s in df_fair['sex']]\n",
      "C:\\Users\\haoch\\AppData\\Local\\Temp\\ipykernel_7620\\1104007574.py:13: SettingWithCopyWarning: \n",
      "A value is trying to be set on a copy of a slice from a DataFrame.\n",
      "Try using .loc[row_indexer,col_indexer] = value instead\n",
      "\n",
      "See the caveats in the documentation: https://pandas.pydata.org/pandas-docs/stable/user_guide/indexing.html#returning-a-view-versus-a-copy\n",
      "  df_fair['y'] =  [1 if y == ' >50K'else 0 for y in df['y']]\n"
     ]
    }
   ],
   "source": [
    "# We define these features using the code below. For race, we define \n",
    "# the protected feature so that “White” is the privileged group. \n",
    "# That is the variable has a value of 1 if the person is white and \n",
    "# 0 otherwise. For sex, “Male” is the privileged group. \n",
    "\n",
    "df_fair = df[['race','sex']]\n",
    "\n",
    "#Define protected features \n",
    "df_fair['priv_race'] = [1 if r==' White' else 0 for r in df_fair['race']]\n",
    "df_fair['priv_sex'] = [1 if s==' Male' else 0 for s in df_fair['sex']]\n",
    "\n",
    "#Define target variable \n",
    "df_fair['y'] =  [1 if y == ' >50K'else 0 for y in df['y']]"
   ]
  },
  {
   "attachments": {},
   "cell_type": "markdown",
   "metadata": {},
   "source": [
    "## Bias and Prevalence"
   ]
  },
  {
   "attachments": {},
   "cell_type": "markdown",
   "metadata": {},
   "source": [
    "#### For a target variable, prevalence is the proportion of the positive cases to overall cases. Where a positive case is when the target variable has a value of 1. Our dataset has an overall prevalence of 24.8%. That is roughly 1/4 of the people in our dataset earn above $50K. We can also use prevalence as an indicator of bias in our dataset. Ideally, in datasets with no bias, prevalence of all features, irrespective of their values should be the same."
   ]
  },
  {
   "cell_type": "code",
   "execution_count": 6,
   "metadata": {},
   "outputs": [
    {
     "name": "stdout",
     "output_type": "stream",
     "text": [
      "0.2408095574460244\n",
      "priv_race\n",
      "0    0.152582\n",
      "1    0.255860\n",
      "Name: y, dtype: float64\n",
      "priv_sex\n",
      "0    0.109461\n",
      "1    0.305737\n",
      "Name: y, dtype: float64\n",
      "priv_race  priv_sex\n",
      "0          0           0.070925\n",
      "           1           0.219037\n",
      "1          0           0.118954\n",
      "           1           0.317565\n",
      "Name: y, dtype: float64\n"
     ]
    }
   ],
   "source": [
    "# TASK 3\n",
    "\n",
    "# Calculate the prevelance\n",
    "# Look into the groupby operation for pandas\n",
    "\n",
    "# Calculate the prevelance of target variable of y\n",
    "prev = df_fair['y'].mean()\n",
    "print(prev)\n",
    "\n",
    "# Calculate the prevelance of priv_race with respect to y\n",
    "prev_race = df_fair.groupby('priv_race')['y'].mean()\n",
    "print(prev_race)\n",
    "\n",
    "# Calculate the prevelance of priv_Sex with respect to y\n",
    "prev_sex = df_fair.groupby('priv_sex')['y'].mean()\n",
    "print(prev_sex)\n",
    "\n",
    "# Calculate the combined prevelance of priv_race and priv_sex with respect to y\n",
    "prev_comb = df_fair.groupby(['priv_race', 'priv_sex'])['y'].mean()\n",
    "print(prev_comb)\n",
    "\n",
    "\n"
   ]
  },
  {
   "attachments": {},
   "cell_type": "markdown",
   "metadata": {},
   "source": [
    "#### Question: What do you notice about the difference in prevelence between privileged and underpriveleged race and sex?"
   ]
  },
  {
   "cell_type": "markdown",
   "metadata": {},
   "source": [
    "The privileged groups had a higher proportion of people earning more than $50K per year than the non-privileged groups. "
   ]
  },
  {
   "attachments": {},
   "cell_type": "markdown",
   "metadata": {},
   "source": [
    "#### At this point, you should be asking yourself why we have these large differences in prevalence. The dataset was built using United States census data from 1994. The country has a history of discrimination based on gender and race. Ultimately, the target variable reflects this discrimination. In this sense, prevalence can be used to understand the extent to which historical injustice is embedded in our target variable."
   ]
  },
  {
   "cell_type": "code",
   "execution_count": 7,
   "metadata": {},
   "outputs": [
    {
     "name": "stderr",
     "output_type": "stream",
     "text": [
      "C:\\Users\\haoch\\AppData\\Local\\Temp\\ipykernel_7620\\2905166406.py:6: SettingWithCopyWarning: \n",
      "A value is trying to be set on a copy of a slice from a DataFrame.\n",
      "Try using .loc[row_indexer,col_indexer] = value instead\n",
      "\n",
      "See the caveats in the documentation: https://pandas.pydata.org/pandas-docs/stable/user_guide/indexing.html#returning-a-view-versus-a-copy\n",
      "  X['marital-status'] = [1 if x==' Married-civ-spouse' else 0 for x in df['marital-status']]\n",
      "C:\\Users\\haoch\\AppData\\Local\\Temp\\ipykernel_7620\\2905166406.py:7: SettingWithCopyWarning: \n",
      "A value is trying to be set on a copy of a slice from a DataFrame.\n",
      "Try using .loc[row_indexer,col_indexer] = value instead\n",
      "\n",
      "See the caveats in the documentation: https://pandas.pydata.org/pandas-docs/stable/user_guide/indexing.html#returning-a-view-versus-a-copy\n",
      "  X['native-country'] = [1 if x==' United-States' else 0 for x in df['native-country']]\n",
      "C:\\Users\\haoch\\AppData\\Local\\Temp\\ipykernel_7620\\2905166406.py:16: SettingWithCopyWarning: \n",
      "A value is trying to be set on a copy of a slice from a DataFrame.\n",
      "Try using .loc[row_indexer,col_indexer] = value instead\n",
      "\n",
      "See the caveats in the documentation: https://pandas.pydata.org/pandas-docs/stable/user_guide/indexing.html#returning-a-view-versus-a-copy\n",
      "  X['occupation'] = [occ_groups[x] for x in df['occupation']]\n"
     ]
    },
    {
     "data": {
      "text/html": [
       "<div>\n",
       "<style scoped>\n",
       "    .dataframe tbody tr th:only-of-type {\n",
       "        vertical-align: middle;\n",
       "    }\n",
       "\n",
       "    .dataframe tbody tr th {\n",
       "        vertical-align: top;\n",
       "    }\n",
       "\n",
       "    .dataframe thead th {\n",
       "        text-align: right;\n",
       "    }\n",
       "</style>\n",
       "<table border=\"1\" class=\"dataframe\">\n",
       "  <thead>\n",
       "    <tr style=\"text-align: right;\">\n",
       "      <th></th>\n",
       "      <th>age</th>\n",
       "      <th>education-num</th>\n",
       "      <th>hours-per-week</th>\n",
       "      <th>marital-status</th>\n",
       "      <th>native-country</th>\n",
       "      <th>occupation</th>\n",
       "    </tr>\n",
       "  </thead>\n",
       "  <tbody>\n",
       "    <tr>\n",
       "      <th>0</th>\n",
       "      <td>39</td>\n",
       "      <td>13</td>\n",
       "      <td>40</td>\n",
       "      <td>0</td>\n",
       "      <td>1</td>\n",
       "      <td>1</td>\n",
       "    </tr>\n",
       "    <tr>\n",
       "      <th>1</th>\n",
       "      <td>50</td>\n",
       "      <td>13</td>\n",
       "      <td>13</td>\n",
       "      <td>1</td>\n",
       "      <td>1</td>\n",
       "      <td>4</td>\n",
       "    </tr>\n",
       "    <tr>\n",
       "      <th>2</th>\n",
       "      <td>38</td>\n",
       "      <td>9</td>\n",
       "      <td>40</td>\n",
       "      <td>0</td>\n",
       "      <td>1</td>\n",
       "      <td>0</td>\n",
       "    </tr>\n",
       "    <tr>\n",
       "      <th>3</th>\n",
       "      <td>53</td>\n",
       "      <td>7</td>\n",
       "      <td>40</td>\n",
       "      <td>1</td>\n",
       "      <td>1</td>\n",
       "      <td>0</td>\n",
       "    </tr>\n",
       "    <tr>\n",
       "      <th>4</th>\n",
       "      <td>28</td>\n",
       "      <td>13</td>\n",
       "      <td>40</td>\n",
       "      <td>1</td>\n",
       "      <td>0</td>\n",
       "      <td>4</td>\n",
       "    </tr>\n",
       "  </tbody>\n",
       "</table>\n",
       "</div>"
      ],
      "text/plain": [
       "   age  education-num  hours-per-week  marital-status  native-country  \\\n",
       "0   39             13              40               0               1   \n",
       "1   50             13              13               1               1   \n",
       "2   38              9              40               0               1   \n",
       "3   53              7              40               1               1   \n",
       "4   28             13              40               1               0   \n",
       "\n",
       "   occupation  \n",
       "0           1  \n",
       "1           4  \n",
       "2           0  \n",
       "3           0  \n",
       "4           4  "
      ]
     },
     "execution_count": 7,
     "metadata": {},
     "output_type": "execute_result"
    }
   ],
   "source": [
    "#Target variable \n",
    "y = [1 if y == ' >50K' else 0 for y in df['y']]\n",
    "\n",
    "#Model features\n",
    "X = df[['age','education-num','hours-per-week']]\n",
    "X['marital-status'] = [1 if x==' Married-civ-spouse' else 0 for x in df['marital-status']] \n",
    "X['native-country'] = [1 if x==' United-States' else 0 for x in df['native-country']] \n",
    "\n",
    "occ_groups = {\n",
    "    ' Priv-house-serv':0,' Other-service':0,' Handlers-cleaners':0,\n",
    "    ' Farming-fishing':1,' Machine-op-inspct':1,' Adm-clerical':1,\n",
    "    ' Transport-moving':2,' Craft-repair':2,' Sales':2, ' ?': -1,\n",
    "    ' Armed-Forces':3,' Tech-support':3,' Protective-serv':3,\n",
    "    ' Prof-specialty':4,' Exec-managerial':4}\n",
    "\n",
    "X['occupation'] = [occ_groups[x] for x in df['occupation']]\n",
    "\n",
    "X.head()"
   ]
  },
  {
   "attachments": {},
   "cell_type": "markdown",
   "metadata": {},
   "source": [
    "## Fairness Metrics\n",
    "\n",
    "#### Different metrics can be used to evaluate the fairness of an AI tool. These include equality of opportunity, statistical parity, predictive parity and calibration. You can find more details about these fairness metrics in this paper from Pratyush and Vilasenor (2020) https://arxiv.org/pdf/2001.07864.pdf. \n",
    "\n",
    "#### In this exercise we will be using equality of opportunity as a metric to evaluate the fairness of ML algorithms. You will train two algorithms (Random Forest and SVM) and evaluate/compare their accuracies acorss different groups. "
   ]
  },
  {
   "cell_type": "code",
   "execution_count": 8,
   "metadata": {},
   "outputs": [
    {
     "name": "stderr",
     "output_type": "stream",
     "text": [
      "C:\\Users\\haoch\\AppData\\Local\\Temp\\ipykernel_7620\\1796311190.py:9: SettingWithCopyWarning: \n",
      "A value is trying to be set on a copy of a slice from a DataFrame.\n",
      "Try using .loc[row_indexer,col_indexer] = value instead\n",
      "\n",
      "See the caveats in the documentation: https://pandas.pydata.org/pandas-docs/stable/user_guide/indexing.html#returning-a-view-versus-a-copy\n",
      "  df_fair['y_pred'] = y_pred\n"
     ]
    }
   ],
   "source": [
    "\n",
    "#TASK 4\n",
    "#Training a Random forest Classifier\n",
    "\n",
    "model = RandomForestClassifier(n_estimators=100, max_depth=2, random_state=0)\n",
    "model.fit(X, y)\n",
    "\n",
    "#Get predictions\n",
    "y_pred = model.predict(X)\n",
    "df_fair['y_pred'] = y_pred\n",
    "\n"
   ]
  },
  {
   "cell_type": "code",
   "execution_count": 9,
   "metadata": {},
   "outputs": [],
   "source": [
    "\n",
    "def fairness_metrics(df):\n",
    "    \n",
    "# TASK 5\n",
    "# Make a Confusion Matrix of real values and predicted values\n",
    "    cm = confusion_matrix(df['y'], df['y_pred'])\n",
    "    TN, FP, FN, TP = cm.ravel()\n",
    "    \n",
    "    N = TP+FP+FN+TN #Total population\n",
    "    ACC = (TP+TN)/N #Accuracy\n",
    "    \n",
    "    return np.array([ACC])  "
   ]
  },
  {
   "cell_type": "code",
   "execution_count": 10,
   "metadata": {},
   "outputs": [
    {
     "name": "stdout",
     "output_type": "stream",
     "text": [
      "[0.87376185]\n",
      "[0.80784441]\n"
     ]
    }
   ],
   "source": [
    "\n",
    "\n",
    "#TASK 6\n",
    "#Calculate the fairness metrics for privileged and under-privileed group in race \n",
    "fm_race_1 = fairness_metrics(df_fair[df_fair['priv_race'] == 1])\n",
    "fm_race_0 = fairness_metrics(df_fair[df_fair['priv_race'] == 0])\n",
    "\n",
    "#Get ratio of fairness metrics\n",
    "fm_race = fm_race_0/fm_race_1\n",
    "\n",
    "print(fm_race_0)\n",
    "print(fm_race_1)"
   ]
  },
  {
   "cell_type": "code",
   "execution_count": 11,
   "metadata": {},
   "outputs": [],
   "source": [
    "#TASK 7\n",
    "\n",
    "#Calculate the fairness metrics for privileged and under-privileed group in sex \n",
    "fm_sex_1 = fairness_metrics(df_fair[df_fair['priv_sex'] == 1])\n",
    "fm_sex_0 = fairness_metrics(df_fair[df_fair['priv_sex'] == 0])"
   ]
  },
  {
   "cell_type": "code",
   "execution_count": 12,
   "metadata": {},
   "outputs": [
    {
     "name": "stdout",
     "output_type": "stream",
     "text": [
      "[0.90715811]\n",
      "[0.77310693]\n"
     ]
    }
   ],
   "source": [
    "print(fm_sex_0)\n",
    "print(fm_sex_1)"
   ]
  },
  {
   "attachments": {},
   "cell_type": "markdown",
   "metadata": {},
   "source": [
    "#### Question: Do you notice any differences in accuracy between the privileged and under-privileged race and gender in the Random Forest algorithm? What kind of bias do you think this would be from the (Baker and Hawn, 2021), and why? \n",
    "\n",
    "##### Baker and Hawn (2021): https://edarxiv.org/pbmvz/"
   ]
  },
  {
   "cell_type": "code",
   "execution_count": 13,
   "metadata": {},
   "outputs": [
    {
     "name": "stderr",
     "output_type": "stream",
     "text": [
      "C:\\Users\\haoch\\AppData\\Local\\Temp\\ipykernel_7620\\1095276951.py:9: SettingWithCopyWarning: \n",
      "A value is trying to be set on a copy of a slice from a DataFrame.\n",
      "Try using .loc[row_indexer,col_indexer] = value instead\n",
      "\n",
      "See the caveats in the documentation: https://pandas.pydata.org/pandas-docs/stable/user_guide/indexing.html#returning-a-view-versus-a-copy\n",
      "  df_fair['y_pred_svm'] = y_pred_svm\n"
     ]
    }
   ],
   "source": [
    "#TASK 8\n",
    "#Training a Support Vector Machine Model\n",
    "\n",
    "model1 = svm.SVC()\n",
    "model1.fit(X, y)\n",
    "\n",
    "#Get predictions\n",
    "y_pred_svm = model1.predict(X)\n",
    "df_fair['y_pred_svm'] = y_pred_svm"
   ]
  },
  {
   "cell_type": "markdown",
   "metadata": {},
   "source": []
  },
  {
   "cell_type": "code",
   "execution_count": 14,
   "metadata": {},
   "outputs": [],
   "source": [
    "def fairness_metrics_2(df):\n",
    "    \"\"\"Calculate fairness for subgroup of population\"\"\"\n",
    "    \n",
    "# Make a Confusion Matrix of real values and target values\n",
    "    cm=confusion_matrix(df['y'],df['y_pred_svm'])\n",
    "    TN, FP, FN, TP = cm.ravel()\n",
    "    \n",
    "    N = TP+FP+FN+TN #Total population\n",
    "    ACC = (TP+TN)/N #Accuracy\n",
    "    \n",
    "    return np.array([ACC])  "
   ]
  },
  {
   "cell_type": "code",
   "execution_count": 15,
   "metadata": {},
   "outputs": [
    {
     "name": "stdout",
     "output_type": "stream",
     "text": [
      "[0.87586934]\n",
      "[0.81600518]\n"
     ]
    }
   ],
   "source": [
    "#TASK 9\n",
    "#Calculate the fairness metrics for privileged and under-privileed group in race for SVM\n",
    "fm_race_1_svm = fairness_metrics_2(df_fair[df_fair.priv_race==1])\n",
    "fm_race_0_svm = fairness_metrics_2(df_fair[df_fair.priv_race==0])\n",
    "\n",
    "#Get ratio of fairness metrics\n",
    "fm_race_svm = fm_race_0_svm/fm_race_1_svm\n",
    "\n",
    "print(fm_race_0_svm)\n",
    "print(fm_race_1_svm)"
   ]
  },
  {
   "cell_type": "code",
   "execution_count": 16,
   "metadata": {},
   "outputs": [
    {
     "name": "stdout",
     "output_type": "stream",
     "text": [
      "[0.89824529]\n",
      "[0.78838917]\n"
     ]
    }
   ],
   "source": [
    "#TASK 10\n",
    "#Calculate the fairness metrics for privileged and under-privileed group in sex for SVM\n",
    "fm_sex_1_svm = fairness_metrics_2(df_fair[df_fair.priv_sex==1])\n",
    "fm_sex_0_svm = fairness_metrics_2(df_fair[df_fair.priv_sex==0])\n",
    "\n",
    "#Get ratio of fairness metrics\n",
    "fm_sex_svm = fm_sex_0_svm/fm_sex_1_svm\n",
    "\n",
    "print(fm_sex_0_svm)\n",
    "print(fm_sex_1_svm)"
   ]
  },
  {
   "attachments": {},
   "cell_type": "markdown",
   "metadata": {},
   "source": [
    "#### Question: What do you notice as the difference in fairness between SVM and Random Forest Algorithm? "
   ]
  },
  {
   "cell_type": "code",
   "execution_count": null,
   "metadata": {},
   "outputs": [],
   "source": []
  },
  {
   "cell_type": "code",
   "execution_count": null,
   "metadata": {},
   "outputs": [],
   "source": []
  },
  {
   "cell_type": "code",
   "execution_count": null,
   "metadata": {},
   "outputs": [],
   "source": []
  },
  {
   "cell_type": "code",
   "execution_count": null,
   "metadata": {},
   "outputs": [],
   "source": []
  },
  {
   "cell_type": "code",
   "execution_count": null,
   "metadata": {},
   "outputs": [],
   "source": []
  }
 ],
 "metadata": {
  "kernelspec": {
   "display_name": "base",
   "language": "python",
   "name": "python3"
  },
  "language_info": {
   "codemirror_mode": {
    "name": "ipython",
    "version": 3
   },
   "file_extension": ".py",
   "mimetype": "text/x-python",
   "name": "python",
   "nbconvert_exporter": "python",
   "pygments_lexer": "ipython3",
   "version": "3.10.6"
  },
  "orig_nbformat": 4,
  "vscode": {
   "interpreter": {
    "hash": "bb2560baf818c11029a225c330940475feae786f05463d7ccf2e31c29c63e44b"
   }
  }
 },
 "nbformat": 4,
 "nbformat_minor": 2
}
